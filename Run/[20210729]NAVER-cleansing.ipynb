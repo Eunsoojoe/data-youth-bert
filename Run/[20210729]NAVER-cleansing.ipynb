import re
import pandas as pd

# 이모티콘 제거
emoji_pattern = re.compile("["
        u"\U0001F600-\U0001F64F"  # emoticons
        u"\U0001F300-\U0001F5FF"  # symbols & pictographs
        u"\U0001F680-\U0001F6FF"  # transport & map symbols
        u"\U0001F1E0-\U0001F1FF"  # flags (iOS)
        u"\U00002702-\U000027B0"
        u"\u2640-\u2642"
        u"\u2600-\u2B55"
        u"\u200d"
        u"\u23cf"
        u"\u23e9"
        u"\u231a"
        u"\ufe0f"  # dingbats
        u"\u3030"
        u"\U00010000-\U0010ffff""]+", flags=re.UNICODE)


# html 태그 
cleanr1 = re.compile('</?br/?>')
cleanr2 = re.compile('/?&quot/?')
cleanr3 = re.compile('/?&lt/?')
cleanr4 = re.compile('</?a href.*/?>')
cleanr5 = re.compile('/?&gt/?')
cleanr6 = re.compile('</?i/?>')
cleanr7 = re.compile('/?j&amp;j/?')
cleanr8 = re.compile('/?&#39;/?')

comment_result = []

df = 

# 이모티콘, html 태그 삭제
for i in range(len(df)):
    tokens = re.sub(emoji_pattern,"",df['댓글내용'].iloc[i])
    tokens = re.sub(cleanr1,"",tokens)
    tokens = re.sub(cleanr2,"",tokens)
    tokens = re.sub(cleanr3,"",tokens)
    tokens = re.sub(cleanr4,"",tokens)
    tokens = re.sub(cleanr5,"",tokens)
    tokens = re.sub(cleanr6,"",tokens)
    tokens = re.sub(cleanr7,"",tokens)
    tokens = re.sub(cleanr8,"",tokens)
   
    comment_result.append(tokens)

# 정제된 댓글 데이터 프레임 생성
comment_result = pd.DataFrame(comment_result, columns=["command"])
df['new_command'] = comment_result

len(df)

# 엑셀로 저장
df.to_excel('.xlsx')