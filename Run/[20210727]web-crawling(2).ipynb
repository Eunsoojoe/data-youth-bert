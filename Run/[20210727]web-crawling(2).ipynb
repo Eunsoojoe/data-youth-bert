{
 "cells": [
  {
   "cell_type": "code",
   "execution_count": null,
   "source": [
    "import requests\r\n",
    "import time\r\n",
    "from bs4 import BeatufiulSoup\r\n",
    "import nltk "
   ],
   "outputs": [],
   "metadata": {}
  }
 ],
 "metadata": {
  "orig_nbformat": 4,
  "language_info": {
   "name": "python"
  }
 },
 "nbformat": 4,
 "nbformat_minor": 2
}